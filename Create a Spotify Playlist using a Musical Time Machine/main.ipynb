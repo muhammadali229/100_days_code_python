{
 "cells": [
  {
   "cell_type": "code",
   "execution_count": 22,
   "id": "f2e32a26",
   "metadata": {},
   "outputs": [],
   "source": [
    "from bs4 import BeautifulSoup\n",
    "import requests\n",
    "import spotipy\n",
    "from spotipy.oauth2 import SpotifyOAuth\n",
    "import os\n",
    "from dotenv import load_dotenv"
   ]
  },
  {
   "cell_type": "code",
   "execution_count": 23,
   "id": "9ef84e7b",
   "metadata": {},
   "outputs": [],
   "source": [
    "# Load environment variables from .env file\n",
    "load_dotenv()\n",
    "\n",
    "# Retrieve the credentials from environment variables\n",
    "client_id = os.getenv('SPOTIPY_CLIENT_ID')\n",
    "client_secret = os.getenv('SPOTIPY_CLIENT_SECRET')\n",
    "redirect_uri = os.getenv('SPOTIPY_REDIRECT_URI')"
   ]
  },
  {
   "cell_type": "code",
   "execution_count": 44,
   "id": "c844dcb6",
   "metadata": {},
   "outputs": [
    {
     "name": "stdout",
     "output_type": "stream",
     "text": [
      "Which year do you want to travel to? Type the date in this format YYYY: 2012\n"
     ]
    }
   ],
   "source": [
    "user_input = input('Which year do you want to travel to? Type the date in this format YYYY: ')"
   ]
  },
  {
   "cell_type": "code",
   "execution_count": 45,
   "id": "4526b397",
   "metadata": {},
   "outputs": [],
   "source": [
    "url = f'https://en.wikipedia.org/wiki/Billboard_Year-End_Hot_100_singles_of_{user_input}'\n",
    "response = requests.get(url)\n",
    "if response.status_code != 200:\n",
    "    print(f\"Failed to retrieve the page. Status code: {response.status_code}\")\n",
    "soup = BeautifulSoup(response.text, 'lxml')"
   ]
  },
  {
   "cell_type": "code",
   "execution_count": 49,
   "id": "56b4dab0",
   "metadata": {},
   "outputs": [],
   "source": [
    "all_song_titles = soup.select('.wikitable tr td:nth-child(2n)')"
   ]
  },
  {
   "cell_type": "code",
   "execution_count": 50,
   "id": "5e98d281",
   "metadata": {},
   "outputs": [],
   "source": [
    "title_text = [title.getText().replace('\"', '') for title in all_song_titles]"
   ]
  },
  {
   "cell_type": "code",
   "execution_count": 52,
   "id": "88f24778",
   "metadata": {},
   "outputs": [],
   "source": [
    "# Define the scope of access\n",
    "scope = 'playlist-modify-private playlist-read-private'\n",
    "# Authenticate and create a Spotify object\n",
    "sp = spotipy.Spotify(auth_manager=SpotifyOAuth(client_id=client_id,\n",
    "                                               client_secret=client_secret,\n",
    "                                               redirect_uri=redirect_uri,\n",
    "                                               scope=scope))"
   ]
  },
  {
   "cell_type": "code",
   "execution_count": 53,
   "id": "ccd69c60",
   "metadata": {},
   "outputs": [],
   "source": [
    "# try:\n",
    "#     # Create a new playlist\n",
    "#     user_id = sp.current_user()['id']\n",
    "#     playlist_name = f'Top 100 songs for year {user_input}'\n",
    "#     playlist_description = f'Top 100 songs for year {user_input}'\n",
    "\n",
    "#     new_playlist = sp.user_playlist_create(user=user_id,\n",
    "#                                            name=playlist_name,\n",
    "#                                            public=False,  # Change to False if you want a private playlist\n",
    "#                                            description=playlist_description)\n",
    "#     print(f\"Playlist '{new_playlist['name']}' created successfully!\")\n",
    "# except Exception as  e:\n",
    "#     print(f'Error occur in creating the playlist ', e)\n",
    "# Retrieve current user's playlists\n",
    "playlists = sp.current_user_playlists()"
   ]
  },
  {
   "cell_type": "code",
   "execution_count": 54,
   "id": "6444bcc1",
   "metadata": {},
   "outputs": [],
   "source": [
    "track_uri_lst = []\n",
    "try:\n",
    "    for track_name in title_text:\n",
    "        # Construct the query string\n",
    "        query = f\"track:{track_name} year:{user_input}\"\n",
    "        # Search for the track\n",
    "        results = sp.search(q=query, limit=1, type='track')\n",
    "        if results['tracks']['items']:\n",
    "            track_uri_lst.append(results['tracks']['items'][0]['uri'])\n",
    "        else:\n",
    "            print(f\"No track found for '{query}'\")\n",
    "except Exception as e:\n",
    "    print(e)"
   ]
  },
  {
   "cell_type": "code",
   "execution_count": 56,
   "id": "14f49526",
   "metadata": {},
   "outputs": [
    {
     "name": "stdout",
     "output_type": "stream",
     "text": [
      "Songs added to the playlist successfully!\n"
     ]
    }
   ],
   "source": [
    "try: \n",
    "    playlist_id = playlists['items'][0]['id']\n",
    "    sp.playlist_add_items(playlist_id, track_uri_lst)\n",
    "    print(\"Songs added to the playlist successfully!\")\n",
    "except Exception as e:\n",
    "    print(e)"
   ]
  }
 ],
 "metadata": {
  "kernelspec": {
   "display_name": "Python 3 (ipykernel)",
   "language": "python",
   "name": "python3"
  },
  "language_info": {
   "codemirror_mode": {
    "name": "ipython",
    "version": 3
   },
   "file_extension": ".py",
   "mimetype": "text/x-python",
   "name": "python",
   "nbconvert_exporter": "python",
   "pygments_lexer": "ipython3",
   "version": "3.7.9"
  }
 },
 "nbformat": 4,
 "nbformat_minor": 5
}
