{
 "cells": [
  {
   "cell_type": "code",
   "execution_count": null,
   "id": "49a922d8",
   "metadata": {},
   "outputs": [],
   "source": [
    "guess_word = 'booking'\n",
    "list_of_alphabets = list('abcdefghijklmnopqrstuvwxyz')"
   ]
  },
  {
   "cell_type": "code",
   "execution_count": null,
   "id": "d48084e5",
   "metadata": {},
   "outputs": [],
   "source": [
    "tries = len(guess_word) // 2\n",
    "st = list('_' * len(guess_word))\n",
    "while tries >= 0:\n",
    "    guess = input(f\"Enter any alphabet to guess? [{' '.join(list_of_alphabets)}] \")\n",
    "    if guess in list_of_alphabets:\n",
    "        del list_of_alphabets[list_of_alphabets.index(guess)]\n",
    "    if guess in guess_word:\n",
    "        for i, c in enumerate(guess_word):\n",
    "            if c == guess:\n",
    "                st[i] = guess\n",
    "        print(''.join(st))\n",
    "    else:\n",
    "        print(f'only {tries} left...')\n",
    "        tries -= 1\n",
    "    if ''.join(st) == guess_word:\n",
    "        print('You won')\n",
    "        break"
   ]
  },
  {
   "cell_type": "code",
   "execution_count": null,
   "id": "06d14287",
   "metadata": {},
   "outputs": [],
   "source": []
  }
 ],
 "metadata": {
  "kernelspec": {
   "display_name": "Python 3 (ipykernel)",
   "language": "python",
   "name": "python3"
  },
  "language_info": {
   "codemirror_mode": {
    "name": "ipython",
    "version": 3
   },
   "file_extension": ".py",
   "mimetype": "text/x-python",
   "name": "python",
   "nbconvert_exporter": "python",
   "pygments_lexer": "ipython3",
   "version": "3.7.9"
  }
 },
 "nbformat": 4,
 "nbformat_minor": 5
}
