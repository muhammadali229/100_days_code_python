{
 "cells": [
  {
   "cell_type": "code",
   "execution_count": null,
   "id": "86ad45c6",
   "metadata": {},
   "outputs": [],
   "source": [
    "import random"
   ]
  },
  {
   "cell_type": "code",
   "execution_count": null,
   "id": "821a5119",
   "metadata": {},
   "outputs": [],
   "source": [
    "with open('./words.txt') as f:\n",
    "    words = f.readlines()\n",
    "words = [w.replace('\\n', '') for w in words ]\n",
    "guess_word = random.choice(words)\n",
    "list_of_alphabets = list('abcdefghijklmnopqrstuvwxyz')"
   ]
  },
  {
   "cell_type": "code",
   "execution_count": null,
   "id": "d6bfe325",
   "metadata": {},
   "outputs": [],
   "source": [
    "stages = ['''\n",
    "  +---+\n",
    "  |   |\n",
    "  O   |\n",
    " /|\\  |\n",
    " / \\  |\n",
    "      |\n",
    "=========\n",
    "''', '''\n",
    "  +---+\n",
    "  |   |\n",
    "  O   |\n",
    " /|\\  |\n",
    " /    |\n",
    "      |\n",
    "=========\n",
    "''', '''\n",
    "  +---+\n",
    "  |   |\n",
    "  O   |\n",
    " /|\\  |\n",
    "      |\n",
    "      |\n",
    "=========\n",
    "''', '''\n",
    "  +---+\n",
    "  |   |\n",
    "  O   |\n",
    " /|   |\n",
    "      |\n",
    "      |\n",
    "=========''', '''\n",
    "  +---+\n",
    "  |   |\n",
    "  O   |\n",
    "  |   |\n",
    "      |\n",
    "      |\n",
    "=========\n",
    "''', '''\n",
    "  +---+\n",
    "  |   |\n",
    "  O   |\n",
    "      |\n",
    "      |\n",
    "      |\n",
    "=========\n",
    "''', '''\n",
    "  +---+\n",
    "  |   |\n",
    "      |\n",
    "      |\n",
    "      |\n",
    "      |\n",
    "=========\n",
    "''']"
   ]
  },
  {
   "cell_type": "code",
   "execution_count": null,
   "id": "d48084e5",
   "metadata": {},
   "outputs": [],
   "source": [
    "# tries = len(guess_word) // 2\n",
    "tries = 6\n",
    "st = list('_' * len(guess_word))\n",
    "while tries != 0:\n",
    "    guess = input(f\"Enter any alphabet to guess? [{' '.join(list_of_alphabets)}] \")\n",
    "    if guess in list_of_alphabets:\n",
    "        del list_of_alphabets[list_of_alphabets.index(guess)]\n",
    "    else:\n",
    "        continue\n",
    "    if guess in guess_word:\n",
    "        for i, c in enumerate(guess_word):\n",
    "            if c == guess:\n",
    "                st[i] = guess\n",
    "        print(''.join(st))\n",
    "    else:\n",
    "        print(f'only {tries} left...')\n",
    "        tries -= 1\n",
    "    if ''.join(st) == guess_word:\n",
    "        print('You won')\n",
    "        break\n",
    "    print(stages[tries])\n",
    "    if tries == 0:\n",
    "        print('You lose.')\n",
    "        print(f'Word is: {guess_word}')"
   ]
  }
 ],
 "metadata": {
  "kernelspec": {
   "display_name": "Python 3 (ipykernel)",
   "language": "python",
   "name": "python3"
  },
  "language_info": {
   "codemirror_mode": {
    "name": "ipython",
    "version": 3
   },
   "file_extension": ".py",
   "mimetype": "text/x-python",
   "name": "python",
   "nbconvert_exporter": "python",
   "pygments_lexer": "ipython3",
   "version": "3.7.9"
  }
 },
 "nbformat": 4,
 "nbformat_minor": 5
}
