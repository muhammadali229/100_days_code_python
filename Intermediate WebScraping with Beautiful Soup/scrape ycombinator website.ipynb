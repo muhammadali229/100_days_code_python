{
 "cells": [
  {
   "cell_type": "code",
   "execution_count": 1,
   "id": "c7c00188",
   "metadata": {},
   "outputs": [],
   "source": [
    "from bs4 import BeautifulSoup\n",
    "import requests"
   ]
  },
  {
   "cell_type": "code",
   "execution_count": 2,
   "id": "49e13001",
   "metadata": {},
   "outputs": [],
   "source": [
    "def scrape_data(html):\n",
    "    soup = BeautifulSoup(html, 'lxml')\n",
    "    all_titles = soup.select('#hnmain .titleline>a')\n",
    "    all_scores = soup.select('.score')\n",
    "    return zip(all_titles, all_scores)"
   ]
  },
  {
   "cell_type": "code",
   "execution_count": 3,
   "id": "1c4b8809",
   "metadata": {},
   "outputs": [],
   "source": [
    "titles = []\n",
    "for i in range(1, 24):\n",
    "    url = f'https://news.ycombinator.com/news?p={i}'\n",
    "    response = requests.get(url)\n",
    "    if response.status_code != 200:\n",
    "        print(f\"Failed to retrieve the page. Status code: {response.status_code}\")\n",
    "    titles_zip = scrape_data(response.text)\n",
    "    for title, score in titles_zip:\n",
    "        titles.append({\n",
    "            'title': title.getText(),\n",
    "            'url': title.get('href'),\n",
    "            'score': int(score.getText().split(' ')[0])\n",
    "        })"
   ]
  },
  {
   "cell_type": "code",
   "execution_count": 4,
   "id": "403fe55e",
   "metadata": {},
   "outputs": [],
   "source": [
    "max_score = titles[0]['score']\n",
    "top_item = None"
   ]
  },
  {
   "cell_type": "code",
   "execution_count": 5,
   "id": "4f2f7487",
   "metadata": {},
   "outputs": [],
   "source": [
    "for item in titles:\n",
    "    if item['score'] > max_score:\n",
    "        max_score = item['score']\n",
    "        top_item = item"
   ]
  },
  {
   "cell_type": "code",
   "execution_count": 6,
   "id": "4ca93a3e",
   "metadata": {},
   "outputs": [
    {
     "name": "stdout",
     "output_type": "stream",
     "text": [
      "{'title': 'Julian Assange has reached a plea deal with the U.S., allowing him to go free', 'url': 'https://www.nbcnews.com/politics/justice-department/julian-assange-reached-plea-deal-us-allowing-go-free-rcna158695', 'score': 2670}\n"
     ]
    }
   ],
   "source": [
    "print(top_item)"
   ]
  },
  {
   "cell_type": "code",
   "execution_count": 7,
   "id": "c36b5ef0",
   "metadata": {},
   "outputs": [
    {
     "name": "stdout",
     "output_type": "stream",
     "text": [
      "Total Posts: 684\n"
     ]
    }
   ],
   "source": [
    "print(f'Total Posts: {len(titles)}')"
   ]
  }
 ],
 "metadata": {
  "kernelspec": {
   "display_name": "Python 3 (ipykernel)",
   "language": "python",
   "name": "python3"
  },
  "language_info": {
   "codemirror_mode": {
    "name": "ipython",
    "version": 3
   },
   "file_extension": ".py",
   "mimetype": "text/x-python",
   "name": "python",
   "nbconvert_exporter": "python",
   "pygments_lexer": "ipython3",
   "version": "3.7.9"
  }
 },
 "nbformat": 4,
 "nbformat_minor": 5
}
