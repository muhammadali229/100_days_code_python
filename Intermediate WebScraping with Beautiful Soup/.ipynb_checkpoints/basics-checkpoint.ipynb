{
 "cells": [
  {
   "cell_type": "code",
   "execution_count": 10,
   "id": "84575c41",
   "metadata": {},
   "outputs": [],
   "source": [
    "# !pip install beautifulsoup4 lxml"
   ]
  },
  {
   "cell_type": "code",
   "execution_count": 11,
   "id": "618daae2",
   "metadata": {},
   "outputs": [],
   "source": [
    "from bs4 import BeautifulSoup"
   ]
  },
  {
   "cell_type": "code",
   "execution_count": 12,
   "id": "0ebf2fe4",
   "metadata": {},
   "outputs": [],
   "source": [
    "with open('./website.html', 'r', encoding='utf-8') as f:\n",
    "    html_content = f.read()"
   ]
  },
  {
   "cell_type": "code",
   "execution_count": 13,
   "id": "698064f4",
   "metadata": {},
   "outputs": [],
   "source": [
    "soup = BeautifulSoup(html_content, 'lxml')"
   ]
  },
  {
   "cell_type": "code",
   "execution_count": 15,
   "id": "8e25992c",
   "metadata": {},
   "outputs": [
    {
     "name": "stdout",
     "output_type": "stream",
     "text": [
      "<!DOCTYPE html>\n",
      "<html>\n",
      " <head>\n",
      "  <meta charset=\"utf-8\"/>\n",
      "  <title>\n",
      "   Angela's Personal Site\n",
      "  </title>\n",
      " </head>\n",
      " <body>\n",
      "  <h1 id=\"name\">\n",
      "   Angela Yu\n",
      "  </h1>\n",
      "  <p>\n",
      "   <em>\n",
      "    Founder of\n",
      "    <strong>\n",
      "     <a href=\"https://www.appbrewery.co/\">\n",
      "      The App Brewery\n",
      "     </a>\n",
      "    </strong>\n",
      "    .\n",
      "   </em>\n",
      "  </p>\n",
      "  <p>\n",
      "   I am an iOS and Web Developer. I ❤️ coffee and motorcycles.\n",
      "  </p>\n",
      "  <hr/>\n",
      "  <h3 class=\"heading\">\n",
      "   Books and Teaching\n",
      "  </h3>\n",
      "  <ul>\n",
      "   <li>\n",
      "    The Complete iOS App Development Bootcamp\n",
      "   </li>\n",
      "   <li>\n",
      "    The Complete Web Development Bootcamp\n",
      "   </li>\n",
      "   <li>\n",
      "    100 Days of Code - The Complete Python Bootcamp\n",
      "   </li>\n",
      "  </ul>\n",
      "  <hr/>\n",
      "  <h3 class=\"heading\">\n",
      "   Other Pages\n",
      "  </h3>\n",
      "  <a href=\"https://angelabauer.github.io/cv/hobbies.html\">\n",
      "   My Hobbies\n",
      "  </a>\n",
      "  <a href=\"https://angelabauer.github.io/cv/contact-me.html\">\n",
      "   Contact Me\n",
      "  </a>\n",
      " </body>\n",
      "</html>\n"
     ]
    }
   ],
   "source": [
    "print(soup.prettify())"
   ]
  },
  {
   "cell_type": "code",
   "execution_count": 16,
   "id": "7c56201f",
   "metadata": {},
   "outputs": [
    {
     "data": {
      "text/plain": [
       "<title>Angela's Personal Site</title>"
      ]
     },
     "execution_count": 16,
     "metadata": {},
     "output_type": "execute_result"
    }
   ],
   "source": [
    "soup.title # to print the title tag"
   ]
  },
  {
   "cell_type": "code",
   "execution_count": 17,
   "id": "f0335adf",
   "metadata": {},
   "outputs": [
    {
     "data": {
      "text/plain": [
       "'title'"
      ]
     },
     "execution_count": 17,
     "metadata": {},
     "output_type": "execute_result"
    }
   ],
   "source": [
    "soup.title.name # to print the tag name"
   ]
  },
  {
   "cell_type": "code",
   "execution_count": 19,
   "id": "b8a8af0c",
   "metadata": {},
   "outputs": [
    {
     "data": {
      "text/plain": [
       "<a href=\"https://www.appbrewery.co/\">The App Brewery</a>"
      ]
     },
     "execution_count": 19,
     "metadata": {},
     "output_type": "execute_result"
    }
   ],
   "source": [
    "soup.a # it will give you 1st link tag"
   ]
  },
  {
   "cell_type": "code",
   "execution_count": 20,
   "id": "501f38c3",
   "metadata": {},
   "outputs": [
    {
     "data": {
      "text/plain": [
       "<li>The Complete iOS App Development Bootcamp</li>"
      ]
     },
     "execution_count": 20,
     "metadata": {},
     "output_type": "execute_result"
    }
   ],
   "source": [
    "soup.li"
   ]
  },
  {
   "cell_type": "code",
   "execution_count": 22,
   "id": "32f6c368",
   "metadata": {},
   "outputs": [
    {
     "data": {
      "text/plain": [
       "[<a href=\"https://www.appbrewery.co/\">The App Brewery</a>,\n",
       " <a href=\"https://angelabauer.github.io/cv/hobbies.html\">My Hobbies</a>,\n",
       " <a href=\"https://angelabauer.github.io/cv/contact-me.html\">Contact Me</a>]"
      ]
     },
     "execution_count": 22,
     "metadata": {},
     "output_type": "execute_result"
    }
   ],
   "source": [
    "soup.find_all('a') # it will print all link tags"
   ]
  },
  {
   "cell_type": "code",
   "execution_count": 24,
   "id": "1b767a3e",
   "metadata": {},
   "outputs": [
    {
     "name": "stdout",
     "output_type": "stream",
     "text": [
      "The App Brewery\n",
      "My Hobbies\n",
      "Contact Me\n"
     ]
    }
   ],
   "source": [
    "for tag in soup.find_all('a'):\n",
    "#     print(tag.text)\n",
    "    print(tag.getText())"
   ]
  },
  {
   "cell_type": "code",
   "execution_count": 28,
   "id": "931425fb",
   "metadata": {},
   "outputs": [
    {
     "name": "stdout",
     "output_type": "stream",
     "text": [
      "https://www.appbrewery.co/\n",
      "https://angelabauer.github.io/cv/hobbies.html\n",
      "https://angelabauer.github.io/cv/contact-me.html\n"
     ]
    }
   ],
   "source": [
    "for tag in soup.find_all('a'):\n",
    "#     print(tag.attrs['href'])\n",
    "    print(tag.get('href'))"
   ]
  },
  {
   "cell_type": "code",
   "execution_count": 29,
   "id": "6ba16923",
   "metadata": {},
   "outputs": [
    {
     "data": {
      "text/plain": [
       "<h1 id=\"name\">Angela Yu</h1>"
      ]
     },
     "execution_count": 29,
     "metadata": {},
     "output_type": "execute_result"
    }
   ],
   "source": [
    "soup.find('h1', id='name')"
   ]
  },
  {
   "cell_type": "code",
   "execution_count": 40,
   "id": "ed87bb48",
   "metadata": {},
   "outputs": [],
   "source": [
    "headings = soup.find_all(attrs={'class': 'heading'})"
   ]
  },
  {
   "cell_type": "code",
   "execution_count": 41,
   "id": "24204468",
   "metadata": {},
   "outputs": [
    {
     "name": "stdout",
     "output_type": "stream",
     "text": [
      "Books and Teaching\n",
      "['heading']\n",
      "Other Pages\n",
      "['heading']\n"
     ]
    }
   ],
   "source": [
    "for h in headings:\n",
    "    print(h.getText())\n",
    "    print(h.get('class'))"
   ]
  },
  {
   "cell_type": "code",
   "execution_count": 42,
   "id": "0ac38b7b",
   "metadata": {},
   "outputs": [
    {
     "data": {
      "text/plain": [
       "[<a href=\"https://www.appbrewery.co/\">The App Brewery</a>,\n",
       " <a href=\"https://angelabauer.github.io/cv/hobbies.html\">My Hobbies</a>,\n",
       " <a href=\"https://angelabauer.github.io/cv/contact-me.html\">Contact Me</a>]"
      ]
     },
     "execution_count": 42,
     "metadata": {},
     "output_type": "execute_result"
    }
   ],
   "source": [
    "soup.find_all('a')"
   ]
  },
  {
   "cell_type": "code",
   "execution_count": 46,
   "id": "a9cc98a3",
   "metadata": {},
   "outputs": [
    {
     "data": {
      "text/plain": [
       "'https://www.appbrewery.co/'"
      ]
     },
     "execution_count": 46,
     "metadata": {},
     "output_type": "execute_result"
    }
   ],
   "source": [
    "soup.select_one('p a').get('href')"
   ]
  },
  {
   "cell_type": "code",
   "execution_count": 47,
   "id": "b0293aee",
   "metadata": {},
   "outputs": [
    {
     "data": {
      "text/plain": [
       "<h1 id=\"name\">Angela Yu</h1>"
      ]
     },
     "execution_count": 47,
     "metadata": {},
     "output_type": "execute_result"
    }
   ],
   "source": [
    "soup.select_one('#name')"
   ]
  },
  {
   "cell_type": "code",
   "execution_count": 48,
   "id": "0293d61b",
   "metadata": {},
   "outputs": [
    {
     "data": {
      "text/plain": [
       "[<h3 class=\"heading\">Books and Teaching</h3>,\n",
       " <h3 class=\"heading\">Other Pages</h3>]"
      ]
     },
     "execution_count": 48,
     "metadata": {},
     "output_type": "execute_result"
    }
   ],
   "source": [
    "soup.select('.heading')"
   ]
  }
 ],
 "metadata": {
  "kernelspec": {
   "display_name": "Python 3 (ipykernel)",
   "language": "python",
   "name": "python3"
  },
  "language_info": {
   "codemirror_mode": {
    "name": "ipython",
    "version": 3
   },
   "file_extension": ".py",
   "mimetype": "text/x-python",
   "name": "python",
   "nbconvert_exporter": "python",
   "pygments_lexer": "ipython3",
   "version": "3.7.9"
  }
 },
 "nbformat": 4,
 "nbformat_minor": 5
}
