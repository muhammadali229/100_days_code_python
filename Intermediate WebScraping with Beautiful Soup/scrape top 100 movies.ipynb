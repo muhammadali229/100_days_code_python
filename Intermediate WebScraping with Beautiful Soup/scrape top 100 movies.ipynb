{
 "cells": [
  {
   "cell_type": "code",
   "execution_count": 1,
   "id": "71dbbbe5",
   "metadata": {},
   "outputs": [],
   "source": [
    "from bs4 import BeautifulSoup\n",
    "import requests"
   ]
  },
  {
   "cell_type": "code",
   "execution_count": 2,
   "id": "8bcc7417",
   "metadata": {},
   "outputs": [],
   "source": [
    "url = 'https://web.archive.org/web/20200518073855/https://www.empireonline.com/movies/features/best-movies-2/'\n",
    "response = requests.get(url)\n",
    "if response.status_code != 200:\n",
    "    print(f\"Failed to retrieve the page. Status code: {response.status_code}\")\n",
    "soup = BeautifulSoup(response.text, 'lxml')"
   ]
  },
  {
   "cell_type": "code",
   "execution_count": 3,
   "id": "c46a9e03",
   "metadata": {},
   "outputs": [],
   "source": [
    "all_titles = soup.select('.article-title-description__text .title')"
   ]
  },
  {
   "cell_type": "code",
   "execution_count": 9,
   "id": "0652d42b",
   "metadata": {},
   "outputs": [],
   "source": [
    "st_titles = ''\n",
    "for title in all_titles[::-1]:\n",
    "    st_titles += title.getText() + '\\n'"
   ]
  },
  {
   "cell_type": "code",
   "execution_count": 18,
   "id": "805c6cc1",
   "metadata": {},
   "outputs": [],
   "source": [
    "with open('./movies.txt', 'w', encoding='utf-8') as f: \n",
    "    f.write(st_titles[:-1])"
   ]
  }
 ],
 "metadata": {
  "kernelspec": {
   "display_name": "Python 3 (ipykernel)",
   "language": "python",
   "name": "python3"
  },
  "language_info": {
   "codemirror_mode": {
    "name": "ipython",
    "version": 3
   },
   "file_extension": ".py",
   "mimetype": "text/x-python",
   "name": "python",
   "nbconvert_exporter": "python",
   "pygments_lexer": "ipython3",
   "version": "3.7.9"
  }
 },
 "nbformat": 4,
 "nbformat_minor": 5
}
