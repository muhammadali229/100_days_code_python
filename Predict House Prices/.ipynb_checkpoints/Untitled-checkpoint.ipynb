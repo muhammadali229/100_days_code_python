{
 "cells": [
  {
   "cell_type": "code",
   "execution_count": 76,
   "id": "de1053d2",
   "metadata": {},
   "outputs": [],
   "source": [
    "import xml.etree.ElementTree as ET\n",
    "\n",
    "# Parse the XML file\n",
    "tree = ET.parse('Group Renewal Note [DL2337].rdl')\n",
    "root = tree.getroot()"
   ]
  },
  {
   "cell_type": "code",
   "execution_count": 79,
   "id": "96823d3e",
   "metadata": {},
   "outputs": [],
   "source": [
    "from lxml import etree as ET\n",
    "\n",
    "# Path to your XML file\n",
    "xml_file = 'Group Renewal Note [DL2337].rdl'\n",
    "tree = ET.parse(xml_file)\n",
    "root = tree.getroot()\n",
    "namespace_uri = \"http://schemas.microsoft.com/sqlserver/reporting/2016/01/reportdefinition\"\n",
    "\n",
    "report_parameters = root.find('.//{'+namespace_uri+'}ReportParameters')\n",
    "new_report_parameter = ET.Element('{'+namespace_uri+'}ReportParameter', attrib={'Name': 'new_parameter'})\n",
    "\n",
    "# Create child elements for the new <ReportParameter> element with namespace\n",
    "data_type = ET.SubElement(new_report_parameter, '{'+namespace_uri+'}DataType')\n",
    "data_type.text = 'String'\n",
    "\n",
    "prompt = ET.SubElement(new_report_parameter, '{'+namespace_uri+'}Prompt')\n",
    "prompt.text = 'userid'\n",
    "\n",
    "# Create <DefaultValue> element with namespace\n",
    "default_value = ET.SubElement(new_report_parameter, '{'+namespace_uri+'}DefaultValue')\n",
    "values = ET.SubElement(default_value, '{'+namespace_uri+'}Values')\n",
    "default_val = ET.SubElement(values, '{'+namespace_uri+'}Value')\n",
    "default_val.text = '[UserID!]'\n",
    "\n",
    "# Append the new <ReportParameter> to <ReportParameters>\n",
    "report_parameters.append(new_report_parameter)\n",
    "\n",
    "# Write the updated XML back to a file\n",
    "tree.write('updated_report_definition11.rdl', xml_declaration=True, encoding='utf-8', pretty_print=True, standalone=True, with_comments=True)"
   ]
  },
  {
   "cell_type": "code",
   "execution_count": 80,
   "id": "6d5317e4",
   "metadata": {},
   "outputs": [],
   "source": []
  },
  {
   "cell_type": "code",
   "execution_count": 67,
   "id": "45424aa4",
   "metadata": {},
   "outputs": [
    {
     "name": "stdout",
     "output_type": "stream",
     "text": [
      "Root tag: {http://schemas.microsoft.com/sqlserver/reporting/2016/01/reportdefinition}Report\n"
     ]
    }
   ],
   "source": [
    "print(f'Root tag: {root.tag}')"
   ]
  },
  {
   "cell_type": "code",
   "execution_count": 68,
   "id": "6f61c63a",
   "metadata": {},
   "outputs": [
    {
     "name": "stdout",
     "output_type": "stream",
     "text": [
      "<Element '{http://schemas.microsoft.com/sqlserver/reporting/2016/01/reportdefinition/defaultfontfamily}DefaultFontFamily' at 0x00000185B1D444F8>\n",
      "<Element '{http://schemas.microsoft.com/sqlserver/reporting/2016/01/reportdefinition}AutoRefresh' at 0x00000185B1A16C78>\n",
      "<Element '{http://schemas.microsoft.com/sqlserver/reporting/2016/01/reportdefinition}DataSources' at 0x00000185B1A16C28>\n",
      "<Element '{http://schemas.microsoft.com/sqlserver/reporting/2016/01/reportdefinition}DataSets' at 0x00000185B1A16EF8>\n",
      "<Element '{http://schemas.microsoft.com/sqlserver/reporting/2016/01/reportdefinition}ReportSections' at 0x00000185B19FF6D8>\n",
      "<Element '{http://schemas.microsoft.com/sqlserver/reporting/2016/01/reportdefinition}ReportParameters' at 0x00000185B19A31D8>\n",
      "<Element '{http://schemas.microsoft.com/sqlserver/reporting/2016/01/reportdefinition}ReportParametersLayout' at 0x00000185B19A3F48>\n",
      "<Element '{http://schemas.microsoft.com/sqlserver/reporting/2016/01/reportdefinition}Language' at 0x00000185B1D46548>\n",
      "<Element '{http://schemas.microsoft.com/sqlserver/reporting/2016/01/reportdefinition}ConsumeContainerWhitespace' at 0x00000185B1D46598>\n",
      "<Element '{http://schemas.microsoft.com/SQLServer/reporting/reportdesigner}ReportUnitType' at 0x00000185B1D465E8>\n",
      "<Element '{http://schemas.microsoft.com/SQLServer/reporting/reportdesigner}ReportID' at 0x00000185B1D46638>\n"
     ]
    }
   ],
   "source": [
    "for param in root.findall('./'):\n",
    "    print(param)"
   ]
  },
  {
   "cell_type": "code",
   "execution_count": 69,
   "id": "6f92df6a",
   "metadata": {},
   "outputs": [],
   "source": [
    "report_parameters = root.find('{http://schemas.microsoft.com/sqlserver/reporting/2016/01/reportdefinition}ReportParameters')"
   ]
  },
  {
   "cell_type": "code",
   "execution_count": 70,
   "id": "079d6271",
   "metadata": {},
   "outputs": [],
   "source": [
    "default_ns = 'http://schemas.microsoft.com/sqlserver/reporting/2016/01/reportdefinition'"
   ]
  },
  {
   "cell_type": "code",
   "execution_count": 71,
   "id": "ae916019",
   "metadata": {},
   "outputs": [],
   "source": [
    "new_report_parameter = ET.Element(\n",
    "    '{http://schemas.microsoft.com/sqlserver/reporting/2016/01/reportdefinition}ReportParameter',\n",
    "    name='user_id')\n",
    "data_type = ET.SubElement(new_report_parameter, 'DataType')\n",
    "data_type.text = 'String'\n",
    "default_value = ET.SubElement(new_report_parameter, 'DefaultValue')\n",
    "values = ET.SubElement(default_value, 'Values')\n",
    "default_val = ET.SubElement(values, 'Value')\n",
    "default_val.text = '[UserID!]'"
   ]
  },
  {
   "cell_type": "code",
   "execution_count": 72,
   "id": "a7f83d44",
   "metadata": {},
   "outputs": [],
   "source": [
    "report_parameters.append(new_report_parameter)"
   ]
  },
  {
   "cell_type": "code",
   "execution_count": 73,
   "id": "5eaef0ae",
   "metadata": {},
   "outputs": [],
   "source": [
    "ET.register_namespace(\"\", default_ns)"
   ]
  },
  {
   "cell_type": "code",
   "execution_count": 75,
   "id": "5ff8b771",
   "metadata": {},
   "outputs": [],
   "source": [
    "tree.write('grn2.rdl', xml_declaration=True, encoding='utf-8', method=\"xml\")"
   ]
  }
 ],
 "metadata": {
  "kernelspec": {
   "display_name": "Python 3 (ipykernel)",
   "language": "python",
   "name": "python3"
  },
  "language_info": {
   "codemirror_mode": {
    "name": "ipython",
    "version": 3
   },
   "file_extension": ".py",
   "mimetype": "text/x-python",
   "name": "python",
   "nbconvert_exporter": "python",
   "pygments_lexer": "ipython3",
   "version": "3.7.9"
  }
 },
 "nbformat": 4,
 "nbformat_minor": 5
}
