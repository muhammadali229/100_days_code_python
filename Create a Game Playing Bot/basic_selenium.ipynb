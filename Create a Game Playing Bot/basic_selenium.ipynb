{
 "cells": [
  {
   "cell_type": "code",
   "execution_count": 4,
   "id": "2153ccc9",
   "metadata": {},
   "outputs": [],
   "source": [
    "from selenium import webdriver\n",
    "from selenium.webdriver.common.by import By\n",
    "import time"
   ]
  },
  {
   "cell_type": "code",
   "execution_count": 8,
   "id": "03f373c4",
   "metadata": {},
   "outputs": [
    {
     "name": "stdout",
     "output_type": "stream",
     "text": [
      "Product Price: 269.99\n"
     ]
    }
   ],
   "source": [
    "chrome_options = webdriver.ChromeOptions()\n",
    "\n",
    "headers = {\n",
    "    \"Accept\":\n",
    "    \"text/html,application/xhtml+xml,application/xml;q=0.9,image/avif,image/webp,image/apng,*/*;q=0.8,application/signed-exchange;v=b3;q=0.7\",\n",
    "    \"Accept-Encoding\": \"gzip, deflate, br, zstd\",\n",
    "    \"Accept-Language\": \"en-US,en;q=0.9\",\n",
    "    \"Host\": \"httpbin.org\",\n",
    "    \"Priority\": \"u=0, i\",\n",
    "    \"Sec-Ch-Ua\":\n",
    "    \"\\\"Not/A)Brand\\\";v=\\\"8\\\", \\\"Chromium\\\";v=\\\"126\\\", \\\"Google Chrome\\\";v=\\\"126\\\"\",\n",
    "    \"Sec-Ch-Ua-Mobile\": \"?0\",\n",
    "    \"Sec-Ch-Ua-Platform\": \"\\\"Windows\\\"\",\n",
    "    \"Sec-Fetch-Dest\": \"document\",\n",
    "    \"Sec-Fetch-Mode\": \"navigate\",\n",
    "    \"Sec-Fetch-Site\": \"cross-site\",\n",
    "    \"Sec-Fetch-User\": \"?1\",\n",
    "    \"Upgrade-Insecure-Requests\": \"1\",\n",
    "    \"User-Agent\":\n",
    "    \"Mozilla/5.0 (Windows NT 10.0; Win64; x64) AppleWebKit/537.36 (KHTML, like Gecko) Chrome/126.0.0.0 Safari/537.36\",\n",
    "    \"X-Amzn-Trace-Id\": \"Root=1-6682ddd2-2a291b771097d39327da27b6\"\n",
    "}\n",
    "\n",
    "for key, value in headers.items():\n",
    "    chrome_options.add_argument(f\"--{key}={value}\")\n",
    "\n",
    "chrome_options.add_experimental_option(\"detach\", True)\n",
    "driver = webdriver.Chrome(options=chrome_options)\n",
    "driver.get(\n",
    "    'https://www.amazon.com/Casio-GGB100-1A3-Master-Mudmaster-Carbon/dp/B07W166TF3/ref=vse_cards_3?_encoding=UTF8&pd_rd_w=LfWvu&content-id=amzn1.sym.077673f9-37e7-49a5-a865-e841c0319f9e&pf_rd_p=077673f9-37e7-49a5-a865-e841c0319f9e&pf_rd_r=KNNJESMC14X5TCKR84ER&pd_rd_wg=QT8Oj&pd_rd_r=8d56f0ef-8e3a-4441-85c8-ab0c03792e6b'\n",
    ")\n",
    "try:\n",
    "    price_fraction = driver.find_element(By.CSS_SELECTOR,\n",
    "                                         '.a-price-fraction').text\n",
    "    price_whole = driver.find_element(By.CSS_SELECTOR, '.a-price-whole').text\n",
    "\n",
    "    price = float(price_whole.replace('\"', '') + '.' + price_fraction)\n",
    "\n",
    "    print(f'Product Price: {price}')\n",
    "\n",
    "finally:\n",
    "    # driver.close() # close active tab\n",
    "    driver.quit()"
   ]
  }
 ],
 "metadata": {
  "kernelspec": {
   "display_name": "Python 3 (ipykernel)",
   "language": "python",
   "name": "python3"
  },
  "language_info": {
   "codemirror_mode": {
    "name": "ipython",
    "version": 3
   },
   "file_extension": ".py",
   "mimetype": "text/x-python",
   "name": "python",
   "nbconvert_exporter": "python",
   "pygments_lexer": "ipython3",
   "version": "3.7.9"
  }
 },
 "nbformat": 4,
 "nbformat_minor": 5
}
