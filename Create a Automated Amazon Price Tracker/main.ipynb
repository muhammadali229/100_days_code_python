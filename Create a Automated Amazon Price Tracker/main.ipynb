{
 "cells": [
  {
   "cell_type": "code",
   "execution_count": 11,
   "id": "dd0fea9f",
   "metadata": {},
   "outputs": [],
   "source": [
    "from bs4 import BeautifulSoup\n",
    "from webdriver_manager.chrome import ChromeDriverManager\n",
    "from selenium import webdriver\n",
    "from selenium.webdriver.chrome.service import Service as ChromeService\n",
    "from selenium.webdriver.chrome.options import Options\n",
    "import smtplib\n",
    "from email.mime.multipart import MIMEMultipart\n",
    "from email.mime.text import MIMEText\n",
    "import os\n",
    "from dotenv import load_dotenv"
   ]
  },
  {
   "cell_type": "code",
   "execution_count": 12,
   "id": "d433fd1f",
   "metadata": {},
   "outputs": [
    {
     "data": {
      "text/plain": [
       "True"
      ]
     },
     "execution_count": 12,
     "metadata": {},
     "output_type": "execute_result"
    }
   ],
   "source": [
    "# Load environment variables from .env file\n",
    "load_dotenv()"
   ]
  },
  {
   "cell_type": "code",
   "execution_count": 3,
   "id": "27577c99",
   "metadata": {},
   "outputs": [],
   "source": [
    "try:\n",
    "    url = 'https://www.amazon.com/G-Shock-Mudmaster-GG-B100-1A9JF-Domestic-Products/dp/B07T1WNJVR/ref=sr_1_24?crid=1MN2DE389PHNR&dib=eyJ2IjoiMSJ9.3aKKADGbxbvphQU3Hj8pv41Djl7RRGq35BEVfE5qMsizGGm3C4Q4LVWmYk0Yws--cKx99oFrDnUmYRJz-aTOUPJ5oB1gmWZ_KDJcIjW600MoTCaoXNNtNIV_yXEpLv745Ki1oD6LlTsPzB9XbviRip9t55Zvhmx1Nsv3DYoaFMAP29QvYI16E5T5pMqX0X1-aIzJxKZm-0so28VZZNVwVUdHaDhIJNysMdoI9ZfvYTNcX_QzcYxigZ5q4m3ABW41CM_aMkdwiZ43C-WMaD_RJRzPQCkR91dgEnOPgxUyxk0.mXlsrCSaXjkZSs8e0UD7JI4N08Jed6Xw1xRBK9vVrxI&dib_tag=se&keywords=casio+g+shock+mudmaster&qid=1719759984&sprefix=casio+g+shock+mudm%2Caps%2C575&sr=8-24'\n",
    "    options = Options()\n",
    "    # options.add_argument('--disable-blink-features=AutomationControlled')\n",
    "    service = ChromeService(executable_path=ChromeDriverManager().install())\n",
    "#     options.add_experimental_option('excludeSwitches', ['enable-logging']) # KINDLY ADD THIS OPTION\n",
    "    driver = webdriver.Chrome(service=service, options=options)\n",
    "    driver.get(url)\n",
    "except Exception as e:\n",
    "    print('Error: ', e)"
   ]
  },
  {
   "cell_type": "code",
   "execution_count": 4,
   "id": "16c9f521",
   "metadata": {},
   "outputs": [],
   "source": [
    "soup = BeautifulSoup(driver.page_source, 'lxml')"
   ]
  },
  {
   "cell_type": "code",
   "execution_count": 9,
   "id": "7f946170",
   "metadata": {},
   "outputs": [],
   "source": [
    "prod_price = float(soup.select('.a-price span')[0].getText().replace('$', ''))"
   ]
  },
  {
   "cell_type": "code",
   "execution_count": 18,
   "id": "dfb59afb",
   "metadata": {},
   "outputs": [],
   "source": [
    "prod_name = soup.title.getText().split(':')[1].replace(' ', '')"
   ]
  },
  {
   "cell_type": "code",
   "execution_count": 22,
   "id": "dcfcfe13",
   "metadata": {},
   "outputs": [
    {
     "name": "stdout",
     "output_type": "stream",
     "text": [
      "Email sent successfully!\n"
     ]
    }
   ],
   "source": [
    "target_price = 390\n",
    "if prod_price <= target_price:\n",
    "    # Email content\n",
    "    sender_email = os.getenv('GMAIL_EMAIL')\n",
    "    receiver_email = \"exaample.com\"\n",
    "    subject = \"Czone Price Alert\"\n",
    "    body = f\"Hello, {prod_name} now {prod_price}\"\n",
    "\n",
    "    # Create a multipart message and set headers\n",
    "    message = MIMEMultipart()\n",
    "    message[\"From\"] = sender_email\n",
    "    message[\"To\"] = receiver_email\n",
    "    message[\"Subject\"] = subject\n",
    "\n",
    "    # Add body to email\n",
    "    message.attach(MIMEText(body, \"plain\"))\n",
    "\n",
    "    # Gmail SMTP server configuration\n",
    "    smtp_server = \"smtp.gmail.com\"\n",
    "    smtp_port = 587  # TLS port (SSL is deprecated)\n",
    "\n",
    "    # Start TLS (Transport Layer Security) connection to Gmail\n",
    "    server = smtplib.SMTP(smtp_server, smtp_port)\n",
    "    server.starttls()\n",
    "\n",
    "    # Login to Gmail\n",
    "    password = os.getenv('GMAIL_PASSWORD')\n",
    "    server.login(sender_email, password)\n",
    "\n",
    "    # Send email\n",
    "    text = message.as_string()\n",
    "    server.sendmail(sender_email, receiver_email, text)\n",
    "\n",
    "    # Quit SMTP session\n",
    "    server.quit()\n",
    "\n",
    "    print(\"Email sent successfully!\")"
   ]
  }
 ],
 "metadata": {
  "kernelspec": {
   "display_name": "Python 3 (ipykernel)",
   "language": "python",
   "name": "python3"
  },
  "language_info": {
   "codemirror_mode": {
    "name": "ipython",
    "version": 3
   },
   "file_extension": ".py",
   "mimetype": "text/x-python",
   "name": "python",
   "nbconvert_exporter": "python",
   "pygments_lexer": "ipython3",
   "version": "3.7.9"
  }
 },
 "nbformat": 4,
 "nbformat_minor": 5
}
