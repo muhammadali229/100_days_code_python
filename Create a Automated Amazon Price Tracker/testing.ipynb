{
 "cells": [
  {
   "cell_type": "code",
   "execution_count": 21,
   "id": "cbe8e65d",
   "metadata": {},
   "outputs": [],
   "source": [
    "from bs4 import BeautifulSoup\n",
    "import requests\n",
    "import smtplib\n",
    "from email.mime.multipart import MIMEMultipart\n",
    "from email.mime.text import MIMEText\n",
    "import os\n",
    "from dotenv import load_dotenv"
   ]
  },
  {
   "cell_type": "code",
   "execution_count": 22,
   "id": "235b86a5",
   "metadata": {},
   "outputs": [],
   "source": [
    "# Load environment variables from .env file\n",
    "load_dotenv()"
   ]
  },
  {
   "cell_type": "code",
   "execution_count": 23,
   "id": "2a0e44cb",
   "metadata": {},
   "outputs": [],
   "source": [
    "url = 'https://www.czone.com.pk/laptops-hp-laptops-hp-omen-16-xf0033dx-gaming-laptop-amd-ryzen%E2%84%A2-9-pro-7940hs-16gb-512gb-nvidia-geforce-rtx-4070-8gb-16-1-fhd-165hz-windows-11-pakistan-p.15906.aspx'\n",
    "response = requests.get(url)\n",
    "if response.status_code != 200:\n",
    "    print(f\"Failed to retrieve the page. Status code: {response.status_code}\")\n",
    "soup = BeautifulSoup(response.text, 'lxml')"
   ]
  },
  {
   "cell_type": "code",
   "execution_count": 24,
   "id": "baf683f1",
   "metadata": {},
   "outputs": [],
   "source": [
    "soup = BeautifulSoup(response.text, 'lxml')"
   ]
  },
  {
   "cell_type": "code",
   "execution_count": 25,
   "id": "43a470f5",
   "metadata": {},
   "outputs": [],
   "source": [
    "prod_price = soup.select('#spnCurrentPrice')[0].getText()"
   ]
  },
  {
   "cell_type": "code",
   "execution_count": 26,
   "id": "eed1cccc",
   "metadata": {},
   "outputs": [],
   "source": [
    "prod_price = int(prod_price.replace('Rs.', '').replace(',', ''))"
   ]
  },
  {
   "cell_type": "code",
   "execution_count": 33,
   "id": "0cb9a0ac",
   "metadata": {},
   "outputs": [
    {
     "name": "stdout",
     "output_type": "stream",
     "text": [
      "Email sent successfully!\n"
     ]
    }
   ],
   "source": [
    "target_price = 450000\n",
    "if prod_price <= target_price:\n",
    "    # Email content\n",
    "    sender_email = os.getenv('GMAIL_EMAIL')\n",
    "    receiver_email = \"exaample.com\"\n",
    "    subject = \"Czone Price Alert\"\n",
    "    body = f\"Hello, {soup.title} now {prod_price}\"\n",
    "\n",
    "    # Create a multipart message and set headers\n",
    "    message = MIMEMultipart()\n",
    "    message[\"From\"] = sender_email\n",
    "    message[\"To\"] = receiver_email\n",
    "    message[\"Subject\"] = subject\n",
    "\n",
    "    # Add body to email\n",
    "    message.attach(MIMEText(body, \"plain\"))\n",
    "\n",
    "    # Gmail SMTP server configuration\n",
    "    smtp_server = \"smtp.gmail.com\"\n",
    "    smtp_port = 587  # TLS port (SSL is deprecated)\n",
    "\n",
    "    # Start TLS (Transport Layer Security) connection to Gmail\n",
    "    server = smtplib.SMTP(smtp_server, smtp_port)\n",
    "    server.starttls()\n",
    "\n",
    "    # Login to Gmail\n",
    "    password = os.getenv('GMAIL_PASSWORD')\n",
    "    server.login(sender_email, password)\n",
    "\n",
    "    # Send email\n",
    "    text = message.as_string()\n",
    "    server.sendmail(sender_email, receiver_email, text)\n",
    "\n",
    "    # Quit SMTP session\n",
    "    server.quit()\n",
    "\n",
    "    print(\"Email sent successfully!\")"
   ]
  }
 ],
 "metadata": {
  "kernelspec": {
   "display_name": "Python 3 (ipykernel)",
   "language": "python",
   "name": "python3"
  },
  "language_info": {
   "codemirror_mode": {
    "name": "ipython",
    "version": 3
   },
   "file_extension": ".py",
   "mimetype": "text/x-python",
   "name": "python",
   "nbconvert_exporter": "python",
   "pygments_lexer": "ipython3",
   "version": "3.7.9"
  }
 },
 "nbformat": 4,
 "nbformat_minor": 5
}
